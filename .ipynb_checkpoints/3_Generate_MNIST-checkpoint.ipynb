{
 "cells": [
  {
   "cell_type": "code",
   "execution_count": 1,
   "metadata": {},
   "outputs": [],
   "source": [
    "import torch\n",
    "import torchvision.datasets as dset\n",
    "import torchvision.transforms as trans\n",
    "\n",
    "\"\"\" 基本參數\"\"\"\n",
    "batch = 64\n",
    "\n",
    "\"\"\" 取得數據集以及DataLoader \"\"\"\n",
    "transform = trans.Compose([\n",
    "    trans.ToTensor(),\n",
    "    trans.Normalize((0.5,),(0.5,)),\n",
    "])\n",
    "\n",
    "train_set = dset.MNIST(root='./mnist_data/', \n",
    "                       train=True, transform=transform, \n",
    "                       download=True)\n",
    "\n",
    "test_set = dset.MNIST(root='./mnist_data/',\n",
    "                      train=False, \n",
    "                      transform=transform, \n",
    "                      download=False)\n",
    "\n",
    "train_loader = torch.utils.data.DataLoader(\n",
    "    dataset = train_set,\n",
    "    batch_size = batch,\n",
    "    shuffle=True,\n",
    "    drop_last=True\n",
    ")\n",
    "\n",
    "test_loader = torch.utils.data.DataLoader(\n",
    "    dataset = test_set,\n",
    "    batch_size = batch,\n",
    "    shuffle=False        \n",
    ")\n"
   ]
  },
  {
   "cell_type": "code",
   "execution_count": 2,
   "metadata": {},
   "outputs": [
    {
     "name": "stdout",
     "output_type": "stream",
     "text": [
      "torch.Size([1, 28, 28])\n",
      "torch.Size([64]) tensor([3, 3, 6, 4, 0, 1, 6, 0, 8, 6, 2, 7, 2, 5, 7, 3, 9, 2, 2, 8, 1, 4, 7, 2,\n",
      "        5, 5, 9, 7, 1, 6, 3, 0, 4, 6, 1, 7, 0, 3, 5, 9, 5, 5, 1, 7, 7, 9, 8, 7,\n",
      "        1, 0, 5, 8, 0, 2, 3, 9, 2, 8, 0, 2, 4, 7, 5, 1])\n"
     ]
    },
    {
     "data": {
      "image/png": "[encoded data removed]",
      "text/plain": [
       "<Figure size 432x288 with 16 Axes>"
      ]
     },
     "metadata": {},
     "output_type": "display_data"
    }
   ],
   "source": [
    "import matplotlib.pyplot as plt\n",
    "\n",
    "\n",
    "for idx, (data, label) in enumerate(train_loader):\n",
    "    \n",
    "    if idx>0:break\n",
    "        \n",
    "    print(data[0].shape)\n",
    "    print(label.shape, label)\n",
    "    \n",
    "    for i in range(16):\n",
    "        im = data[i]\n",
    "        plt.subplot(4,4,i+1)\n",
    "        plt.title(label[i].numpy()), plt.xticks([]), plt.yticks([])\n",
    "        plt.imshow( im.numpy().squeeze(), cmap='gray')\n",
    "\n",
    "plt.tight_layout()\n",
    "plt.show()"
   ]
  },
  {
   "cell_type": "markdown",
   "metadata": {},
   "source": [
    "# 建構生成器與鑑別器"
   ]
  },
  {
   "cell_type": "code",
   "execution_count": 3,
   "metadata": {},
   "outputs": [
    {
     "name": "stdout",
     "output_type": "stream",
     "text": [
      "----------------------------------------------------------------\n",
      "        Layer (type)               Output Shape         Param #\n",
      "================================================================\n",
      "            Conv2d-1           [-1, 64, 14, 14]           1,088\n",
      "         LeakyReLU-2           [-1, 64, 14, 14]               0\n",
      "            Conv2d-3            [-1, 128, 7, 7]         131,200\n",
      "         LeakyReLU-4            [-1, 128, 7, 7]               0\n",
      "            Conv2d-5            [-1, 256, 4, 4]         295,168\n",
      "         LeakyReLU-6            [-1, 256, 4, 4]               0\n",
      "            Conv2d-7              [-1, 1, 1, 1]           4,097\n",
      "           Sigmoid-8              [-1, 1, 1, 1]               0\n",
      "================================================================\n",
      "Total params: 431,553\n",
      "Trainable params: 431,553\n",
      "Non-trainable params: 0\n",
      "----------------------------------------------------------------\n",
      "Input size (MB): 0.00\n",
      "Forward/backward pass size (MB): 0.35\n",
      "Params size (MB): 1.65\n",
      "Estimated Total Size (MB): 2.00\n",
      "----------------------------------------------------------------\n"
     ]
    }
   ],
   "source": [
    "import torch\n",
    "import torch.nn as nn\n",
    "from torchsummary import summary\n",
    "\n",
    "class Discriminator(nn.Module):\n",
    "    \n",
    "    def __init__(self):\n",
    "        \n",
    "        super(Discriminator, self).__init__()\n",
    "        \n",
    "        self.main = nn.Sequential(\n",
    "            \n",
    "            # Input size = 1 ,28 , 28\n",
    "            nn.Conv2d(1, 64, (4,4), 2, 1),\n",
    "            nn.LeakyReLU(),\n",
    "\n",
    "            # Image size = (28-4+2)/2 +1 = 14\n",
    "            nn.Conv2d(64,128, 4, 2, 1),\n",
    "            nn.LeakyReLU(),\n",
    "            \n",
    "            # Image size = (14-4+2)/2 +1 = 7\n",
    "            nn.Conv2d(128, 256, 3, 2, 1),\n",
    "            nn.LeakyReLU(),\n",
    "            \n",
    "            # Image size = (7-3+2)/2 +1 = 4\n",
    "            nn.Conv2d(256, 1, 4, 2, 0),\n",
    "            nn.Sigmoid(),\n",
    "            \n",
    "            # Image size = (4-4)/2 +1 = 1\n",
    "        )\n",
    "        \n",
    "    def forward(self, x):\n",
    "        \n",
    "        return self.main(x)\n",
    "    \n",
    "D = Discriminator()\n",
    "summary(D, (1,28,28))"
   ]
  },
  {
   "cell_type": "code",
   "execution_count": 4,
   "metadata": {},
   "outputs": [
    {
     "name": "stdout",
     "output_type": "stream",
     "text": [
      "----------------------------------------------------------------\n",
      "        Layer (type)               Output Shape         Param #\n",
      "================================================================\n",
      "   ConvTranspose2d-1            [-1, 256, 4, 4]         409,600\n",
      "       BatchNorm2d-2            [-1, 256, 4, 4]             512\n",
      "              ReLU-3            [-1, 256, 4, 4]               0\n",
      "   ConvTranspose2d-4            [-1, 128, 8, 8]         524,288\n",
      "       BatchNorm2d-5            [-1, 128, 8, 8]             256\n",
      "              ReLU-6            [-1, 128, 8, 8]               0\n",
      "   ConvTranspose2d-7           [-1, 64, 16, 16]         131,072\n",
      "       BatchNorm2d-8           [-1, 64, 16, 16]             128\n",
      "              ReLU-9           [-1, 64, 16, 16]               0\n",
      "  ConvTranspose2d-10            [-1, 1, 28, 28]           1,024\n",
      "             Tanh-11            [-1, 1, 28, 28]               0\n",
      "================================================================\n",
      "Total params: 1,066,880\n",
      "Trainable params: 1,066,880\n",
      "Non-trainable params: 0\n",
      "----------------------------------------------------------------\n",
      "Input size (MB): 0.00\n",
      "Forward/backward pass size (MB): 0.67\n",
      "Params size (MB): 4.07\n",
      "Estimated Total Size (MB): 4.74\n",
      "----------------------------------------------------------------\n"
     ]
    }
   ],
   "source": [
    "class Generator(nn.Module):\n",
    "    \n",
    "    def __init__(self, z_dim):\n",
    "\n",
    "        super(Generator, self).__init__()\n",
    "\n",
    "        self.main = nn.Sequential(\n",
    "            # input is Z, going into a convolution\n",
    "            nn.ConvTranspose2d( z_dim, 256, 4, 1, 0, bias=False),\n",
    "            nn.BatchNorm2d(256),\n",
    "            nn.ReLU(True),\n",
    "            # image size =  (1-1)*1 - 2*0 + 4 = 4\n",
    "            \n",
    "            nn.ConvTranspose2d(256, 128, 4, 2, 1, bias=False),\n",
    "            nn.BatchNorm2d(128),\n",
    "            nn.ReLU(True),\n",
    "             # image size =  (4-1)*2 - 2*1 + 4 = 8\n",
    "            \n",
    "            nn.ConvTranspose2d( 128, 64, 4, 2, 1, bias=False),\n",
    "            nn.BatchNorm2d(64),\n",
    "            nn.ReLU(True),\n",
    "            # image size =  (8-1)*2 - 2*1 + 4 = 16\n",
    "            \n",
    "            nn.ConvTranspose2d( 64, 1, 4, 2, 3, bias=False),\n",
    "            nn.Tanh()\n",
    "            # image size =  (16-1)*2 - 2*3 + 4 = 28\n",
    "        )\n",
    "\n",
    "    def forward(self, x):\n",
    "        \n",
    "        return self.main(x)\n",
    "    \n",
    "G = Generator(100)\n",
    "summary(G, (100,1,1))"
   ]
  },
  {
   "cell_type": "markdown",
   "metadata": {},
   "source": [
    "# 訓練GAN"
   ]
  },
  {
   "cell_type": "code",
   "execution_count": 7,
   "metadata": {},
   "outputs": [
    {
     "name": "stdout",
     "output_type": "stream",
     "text": [
      "[1/1] \t D_LOSS:1.3947 \t G_LOSS:0.687479\n",
      "[1/1] \t D_LOSS:1.24836 \t G_LOSS:0.683411\n",
      "[1/1] \t D_LOSS:1.03564 \t G_LOSS:0.738049\n",
      "[1/1] \t D_LOSS:0.755685 \t G_LOSS:0.92646\n",
      "[1/1] \t D_LOSS:0.430693 \t G_LOSS:1.39959\n",
      "[1/1] \t D_LOSS:0.22912 \t G_LOSS:2.02975\n",
      "[1/1] \t D_LOSS:0.1108 \t G_LOSS:2.688\n",
      "[1/1] \t D_LOSS:0.123265 \t G_LOSS:2.67256\n",
      "[1/1] \t D_LOSS:0.0628154 \t G_LOSS:3.36562\n",
      "[1/1] \t D_LOSS:0.0362447 \t G_LOSS:3.91793\n",
      "[1/1] \t D_LOSS:0.0306508 \t G_LOSS:4.12239\n",
      "[1/1] \t D_LOSS:0.0330315 \t G_LOSS:4.1571\n",
      "[1/1] \t D_LOSS:0.0200271 \t G_LOSS:4.33013\n",
      "[1/1] \t D_LOSS:0.0149619 \t G_LOSS:4.73825\n",
      "[1/1] \t D_LOSS:0.0115399 \t G_LOSS:4.89978\n",
      "[1/1] \t D_LOSS:0.00967139 \t G_LOSS:5.13822\n",
      "[1/1] \t D_LOSS:0.0089682 \t G_LOSS:5.30556\n",
      "[1/1] \t D_LOSS:0.00765012 \t G_LOSS:5.35504\n",
      "[1/1] \t D_LOSS:0.00953747 \t G_LOSS:5.0112\n",
      "Each Epoch Cost :1096.9483931064606 s \n",
      "Total Cost Time : 1096.9483931064606\n"
     ]
    }
   ],
   "source": [
    "import torch\n",
    "import torch.nn as nn\n",
    "import torch.optim as optim\n",
    "from torchvision.utils import make_grid\n",
    "import time\n",
    "\n",
    "\"\"\" 基本參數 \"\"\"\n",
    "epoch = 1000\n",
    "lr = 1e-5\n",
    "batch = 64\n",
    "device = torch.device('cuda' if torch.cuda.is_available() else 'cpu')\n",
    "z_dim = 100\n",
    "\n",
    "D = Discriminator().to(device)\n",
    "G = Generator(z_dim).to(device)\n",
    "loss_fn = nn.BCELoss()\n",
    "D_opt = optim.Adam(D.parameters(), lr= lr)\n",
    "G_opt = optim.Adam(G.parameters(), lr= lr)\n",
    "D_loss = []\n",
    "G_loss = []\n",
    "img = []\n",
    "ls_time = []\n",
    "\n",
    "for i in range(epoch):\n",
    "    \n",
    "    start_time = time.time()\n",
    "\n",
    "    for idx, (data, _) in enumerate(train_loader):\n",
    "        \n",
    "        \"\"\" 訓練 D \"\"\"\n",
    "    \n",
    "        D_opt.zero_grad()\n",
    "\n",
    "        x_real = data.to(device)\n",
    "        y_real = torch.ones(batch, ).to(device)\n",
    "        y_real_predict = D(x_real)\n",
    "        d_real_loss = loss_fn(y_real_predict.view(-1), y_real)\n",
    "        d_real_loss.backward()\n",
    "\n",
    "        noise = torch.randn(batch, z_dim, 1, 1, device = device)\n",
    "        x_fake = G(noise)\n",
    "        y_fake = torch.zeros(batch, ).to(device)\n",
    "        y_fake_predict = D(x_fake)\n",
    "        d_fake_loss = loss_fn(y_fake_predict.view(-1), y_fake)\n",
    "        d_fake_loss.backward()\n",
    "\n",
    "        D_loss.append(d_fake_loss + d_real_loss)\n",
    "        D_opt.step()\n",
    "\n",
    "        \"\"\" 訓練 G \"\"\"\n",
    "\n",
    "        G_opt.zero_grad()\n",
    "\n",
    "        noise = torch.randn(batch, z_dim, 1, 1, device = device)\n",
    "        x_fake = G(noise)\n",
    "        y_fake = torch.ones(batch, ).to(device)\n",
    "        y_fake_predict = D(x_fake)\n",
    "        g_loss = loss_fn(y_fake_predict.view(-1), y_fake)\n",
    "        g_loss.backward()\n",
    "\n",
    "        G_loss.append(g_loss)\n",
    "        G_opt.step()\n",
    "        \n",
    "        if idx%50==0:\n",
    "            \n",
    "            print(\"[{}/{}] \\t D_LOSS:{:.6} \\t G_LOSS:{:.6}\".format(i+1, epoch, D_loss[idx], G_loss[idx]))\n",
    "            noise = torch.randn(batch, z_dim, 1, 1, device = device)\n",
    "            fake = G(noise)\n",
    "            img.append(make_grid(fake, padding=0, normalize=True))\n",
    "            \n",
    "    end_time = time.time()\n",
    "    cost_time = end_time - start_time\n",
    "    ls_time.append(cost_time)\n",
    "    print('Each Epoch Cost :{} s \\n'.format(cost_time))\n",
    "\n",
    "print('Total Cost Time : {}'.format(sum(ls_time)))"
   ]
  },
  {
   "cell_type": "code",
   "execution_count": 8,
   "metadata": {},
   "outputs": [
    {
     "name": "stdout",
     "output_type": "stream",
     "text": [
      "Generate Mnist Sample:\n",
      "Device:CPU\n",
      "training cost time:1096.9483931064606s\n"
     ]
    }
   ],
   "source": [
    "print('Generate Mnist Sample:')\n",
    "print('Device:{}'.format(torch.cuda.get_device_name(0) if torch.cuda.is_available() else 'CPU'))\n",
    "print('training cost time:{}s'.format(sum(ls_time)))"
   ]
  },
  {
   "cell_type": "code",
   "execution_count": null,
   "metadata": {},
   "outputs": [],
   "source": []
  }
 ],
 "metadata": {
  "kernelspec": {
   "display_name": "Python 3",
   "language": "python",
   "name": "python3"
  },
  "language_info": {
   "codemirror_mode": {
    "name": "ipython",
    "version": 3
   },
   "file_extension": ".py",
   "mimetype": "text/x-python",
   "name": "python",
   "nbconvert_exporter": "python",
   "pygments_lexer": "ipython3",
   "version": "3.7.7"
  }
 },
 "nbformat": 4,
 "nbformat_minor": 4
}
